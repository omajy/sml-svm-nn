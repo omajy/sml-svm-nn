{
 "cells": [
  {
   "cell_type": "code",
   "execution_count": 28,
   "id": "aadc7e6d-6ffa-467f-9858-b04f8656ac83",
   "metadata": {},
   "outputs": [],
   "source": [
    "import numpy as np\n",
    "import pandas as pd\n",
    "from sklearn.preprocessing import StandardScaler\n",
    "from cvxopt import matrix \n",
    "from cvxopt import solvers\n",
    "\n",
    "df_train = pd.read_csv(\"train.csv\")\n",
    "test_set  = pd.read_csv(\"test.csv\")\n",
    "\n",
    "training_set = df_train.iloc[:4000]\n",
    "validation_set = df_train.iloc[4000:]"
   ]
  },
  {
   "cell_type": "code",
   "execution_count": 29,
   "id": "fc4357e8-c8d7-4271-b029-1d657ae7388a",
   "metadata": {},
   "outputs": [],
   "source": [
    "def split(data):\n",
    "    y = data.iloc[:, 0].replace(0, -1).to_numpy().astype(float)\n",
    "    X = data.iloc[:, 1:].to_numpy().astype(float)\n",
    "    return y, X"
   ]
  },
  {
   "cell_type": "code",
   "execution_count": 30,
   "id": "4efc1632-bfde-44ca-b08d-7ef7e132c1a3",
   "metadata": {},
   "outputs": [],
   "source": [
    "def linear_kernel(X, Z):\n",
    "    return X @ Z.T\n",
    "\n",
    "def polynomial_kernel(X, Z, C, D):\n",
    "    return (X @ Z.T + C)**D \n",
    "\n",
    "def gaussian_kernel(X, Y, sigma):\n",
    "    return np.exp((-linalg.norm(x-y)**2)/(2*(sigma**2)))\n",
    "\n",
    "def rbf_kernel(X, Z, gamma):\n",
    "    X2 = (X**2).sum(axis=1, keepdims=True)    \n",
    "    Z2 = (Z**2).sum(axis=1, keepdims=True).T  \n",
    "    d2 = X2 + Z2 - 2.0 * (X @ Z.T)\n",
    "    return np.exp(-gamma * np.clip(d2, 0.0, None))"
   ]
  },
  {
   "cell_type": "code",
   "execution_count": 31,
   "id": "2831dc08-507f-4006-9a96-f0e82b963c66",
   "metadata": {},
   "outputs": [
    {
     "name": "stdout",
     "output_type": "stream",
     "text": [
      "     pcost       dcost       gap    pres   dres\n",
      " 0: -7.4843e+02 -1.0915e+04  7e+04  4e+00  5e-13\n",
      " 1: -4.6207e+02 -7.0177e+03  1e+04  5e-01  3e-13\n",
      " 2: -2.9736e+02 -2.1717e+03  3e+03  1e-01  2e-13\n",
      " 3: -2.3142e+02 -1.0201e+03  1e+03  4e-02  2e-13\n",
      " 4: -2.0123e+02 -5.5389e+02  5e+02  1e-02  1e-13\n",
      " 5: -1.9467e+02 -3.3695e+02  2e+02  5e-03  1e-13\n",
      " 6: -1.9620e+02 -2.5783e+02  7e+01  1e-03  2e-13\n",
      " 7: -2.0014e+02 -2.3536e+02  4e+01  5e-04  1e-13\n",
      " 8: -2.0281e+02 -2.2359e+02  2e+01  2e-04  2e-13\n",
      " 9: -2.0645e+02 -2.1524e+02  9e+00  5e-05  2e-13\n",
      "10: -2.0734e+02 -2.1319e+02  6e+00  2e-05  1e-13\n",
      "11: -2.0838e+02 -2.1142e+02  3e+00  6e-06  2e-13\n",
      "12: -2.0875e+02 -2.1083e+02  2e+00  3e-06  2e-13\n",
      "13: -2.0940e+02 -2.0998e+02  6e-01  5e-07  2e-13\n",
      "14: -2.0953e+02 -2.0981e+02  3e-01  1e-14  2e-13\n",
      "15: -2.0964e+02 -2.0969e+02  5e-02  4e-15  2e-13\n",
      "16: -2.0966e+02 -2.0967e+02  3e-03  3e-14  2e-13\n",
      "17: -2.0966e+02 -2.0966e+02  8e-05  6e-14  2e-13\n",
      "Optimal solution found.\n"
     ]
    }
   ],
   "source": [
    "y_train, X_train = split(training_set)\n",
    "y_validation, X_validation = split(validation_set)\n",
    "y_test, X_test = split(test_set)\n",
    "\n",
    "scaler = StandardScaler()   \n",
    "\n",
    "X_train_scaled = scaler.fit_transform(X_train)   \n",
    "X_val_scaled   = scaler.transform(X_validation)\n",
    "X_test_scaled  = scaler.transform(X_test)\n",
    "\n",
    "m = X_train_scaled.shape[0] \n",
    "y = y_train.reshape(-1, 1).astype(float)\n",
    "\n",
    "K = linear_kernel(X_train_scaled, X_train_scaled)\n",
    "P = matrix(np.outer(y, y) * K)\n",
    "\n",
    "q = matrix(-np.ones((m, 1)))\n",
    "C = 1.0 \n",
    "G = matrix(np.vstack([-np.eye(m), np.eye(m)]))\n",
    "h = matrix(np.hstack([np.zeros(m), C * np.ones(m)]))\n",
    "\n",
    "A = matrix(y.reshape(1, -1))\n",
    "b = matrix(0.0)\n",
    "\n",
    "solution = solvers.qp(P,q,G,h,A,b)\n",
    "\n",
    "a = np.ravel(solution['x'])\n",
    "\n",
    "\n",
    "sv = a > 1e-5\n",
    "ind = np.arange(len(a))[sv]\n",
    "a_sv = a[sv]\n",
    "X_sv = X_train_scaled[sv]\n",
    "y_sv = y_train[sv]\n",
    "\n",
    "b = 0\n",
    "for n in range(len(a_sv)):\n",
    "    b += y_sv[n]\n",
    "    b -= np.sum(a_sv * y_sv * K[ind[n], sv])\n",
    "b /= len(a_sv)"
   ]
  },
  {
   "cell_type": "code",
   "execution_count": 32,
   "id": "7bb0c221-16c6-4b75-955a-1b13d492ab08",
   "metadata": {},
   "outputs": [],
   "source": [
    "def decision_function(X_new):\n",
    "    K_new = X_new @ X_sv.T\n",
    "    return (a_sv * y_sv) @ K_new.T + b\n",
    "\n",
    "def predict(X_new):\n",
    "    return np.sign(decision_function(X_new))"
   ]
  },
  {
   "cell_type": "code",
   "execution_count": 34,
   "id": "ce568f57-acc6-421f-b28d-b1bec94ed779",
   "metadata": {},
   "outputs": [
    {
     "name": "stdout",
     "output_type": "stream",
     "text": [
      "Train acc: 0.9818, Val acc: 0.9624\n"
     ]
    }
   ],
   "source": [
    "y_pred_train = predict(X_train_scaled)\n",
    "y_pred_val   = predict(X_val_scaled)\n",
    "\n",
    "train_acc = (y_pred_train == y_train).mean()\n",
    "val_acc   = (y_pred_val == y_validation).mean()\n",
    "\n",
    "print(f\"Train acc: {train_acc:.4f}, Val acc: {val_acc:.4f}\")"
   ]
  }
 ],
 "metadata": {
  "kernelspec": {
   "display_name": "Python [conda env:base] *",
   "language": "python",
   "name": "conda-base-py"
  },
  "language_info": {
   "codemirror_mode": {
    "name": "ipython",
    "version": 3
   },
   "file_extension": ".py",
   "mimetype": "text/x-python",
   "name": "python",
   "nbconvert_exporter": "python",
   "pygments_lexer": "ipython3",
   "version": "3.13.5"
  }
 },
 "nbformat": 4,
 "nbformat_minor": 5
}
