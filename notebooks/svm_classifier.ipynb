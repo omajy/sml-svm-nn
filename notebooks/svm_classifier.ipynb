{
 "cells": [
  {
   "cell_type": "code",
   "execution_count": 28,
   "id": "aadc7e6d-6ffa-467f-9858-b04f8656ac83",
   "metadata": {},
   "outputs": [],
   "source": [
    "import numpy as np\n",
    "import pandas as pd\n",
    "from sklearn.preprocessing import StandardScaler\n",
    "from cvxopt import matrix \n",
    "from cvxopt import solvers\n",
    "\n",
    "df_train = pd.read_csv(\"train.csv\")\n",
    "test_set  = pd.read_csv(\"test.csv\")\n",
    "\n",
    "# Splitting the training data into train and validation for the purposes of training and hyperparameter tuning \n",
    "training_set = df_train.iloc[:4000]\n",
    "validation_set = df_train.iloc[4000:]"
   ]
  },
  {
   "cell_type": "code",
   "execution_count": 29,
   "id": "fc4357e8-c8d7-4271-b029-1d657ae7388a",
   "metadata": {},
   "outputs": [],
   "source": [
    "# Splitting data into class labels and replacing with <-1,1>\n",
    "def split(data):\n",
    "    y = data.iloc[:, 0].replace(0, -1).to_numpy().astype(float)\n",
    "    X = data.iloc[:, 1:].to_numpy().astype(float)\n",
    "    return y, X"
   ]
  },
  {
   "cell_type": "code",
   "execution_count": 30,
   "id": "4efc1632-bfde-44ca-b08d-7ef7e132c1a3",
   "metadata": {},
   "outputs": [],
   "source": [
    "# Implementations of Kernel functions\n",
    "def linear_kernel(X, Z):\n",
    "    return X @ Z.T\n",
    "\n",
    "def polynomial_kernel(X, Z, C, D):\n",
    "    return (X @ Z.T + C)**D \n",
    "\n",
    "def gaussian_kernel(X, Y, sigma):\n",
    "    return np.exp((-linalg.norm(x-y)**2)/(2*(sigma**2)))\n",
    "\n",
    "def rbf_kernel(X, Z, gamma):\n",
    "    X2 = (X**2).sum(axis=1, keepdims=True)    \n",
    "    Z2 = (Z**2).sum(axis=1, keepdims=True).T  \n",
    "    d2 = X2 + Z2 - 2.0 * (X @ Z.T)\n",
    "    return np.exp(-gamma * np.clip(d2, 0.0, None))"
   ]
  },
  {
   "cell_type": "code",
   "execution_count": 31,
   "id": "2831dc08-507f-4006-9a96-f0e82b963c66",
   "metadata": {},
   "outputs": [],
   "source": [
    "# Fitting data for improved prediction and seperation\n",
    "y_train, X_train = split(training_set)\n",
    "y_validation, X_validation = split(validation_set)\n",
    "y_test, X_test = split(test_set)\n",
    "\n",
    "scaler = StandardScaler()   \n",
    "\n",
    "X_train = scaler.fit_transform(X_train)   \n",
    "X_validation = scaler.transform(X_validation)\n",
    "X_test  = scaler.transform(X_test)"
   ]
  },
  {
   "cell_type": "code",
   "execution_count": 32,
   "id": "4041db8f-fe28-454b-b00f-44326c1dd1f4",
   "metadata": {},
   "outputs": [],
   "source": [
    "# Fitting an SVM using the RBF Kernel\n",
    "def fit_svm_rbf(X, y, C, gamma):\n",
    "    n = X.shape[0]\n",
    "    K = rbf_kernel(X, X, gamma)\n",
    "    Q = np.outer(y,y) * K\n",
    "    P = matrix(Q)\n",
    "    q = matrix(-np.ones(n))\n",
    "    G = matrix(np.vstack([-np.eye(n), np.eye(n)]))\n",
    "    h = matrix(np.hstack([np.zeros(n), C*np.ones(n)]))\n",
    "    A = matrix(y.astype(np.double), (1,n))\n",
    "    b = matrix(0.0)\n",
    "\n",
    "    solvers.options['show_progress'] = False\n",
    "    sol = solvers.qp(P, q, G, h, A, b)\n",
    "    alpha = np.ravel(sol['x'])\n",
    "\n",
    "    eps = 1e-6\n",
    "    sv = alpha > eps\n",
    "    sv_free = (alpha > eps) & (alpha < C - eps)\n",
    "\n",
    "    if np.any(sv_free):\n",
    "        b_val = y[sv_free] - (alpha*y)[sv][:,None].T @ K[sv][:,sv_free]\n",
    "        b_val = np.mean(b_val)\n",
    "    else:\n",
    "        b_val = y[sv] - (alpha*y)[sv][:,None].T @ K[sv][:,sv]\n",
    "        b_val = np.mean(b_val)\n",
    "\n",
    "    model = {'Xsv': X[sv], 'ysv': y[sv], 'alpha_sv': alpha[sv], 'b': float(b_val), 'gamma': gamma}\n",
    "    return model"
   ]
  },
  {
   "cell_type": "code",
   "execution_count": 33,
   "id": "79a2221d-6d1a-4f53-b205-5f0ca91772e6",
   "metadata": {},
   "outputs": [],
   "source": [
    "# Decision function returns the sum of a given X input \n",
    "def decision_function(model, Xquery):\n",
    "    Kq = rbf_kernel(Xquery, model['Xsv'], model['gamma'])\n",
    "    s = Kq @ (model['alpha_sv'] * model['ysv']) + model['b']\n",
    "    return s\n",
    "\n",
    "# Predict takes the sign of the decision sum\n",
    "def predict(model, Xquery):\n",
    "    return np.sign(decision_function(model, Xquery))"
   ]
  },
  {
   "cell_type": "code",
   "execution_count": 34,
   "id": "c34c637e-2b08-4083-b7a0-ae069f2e971e",
   "metadata": {},
   "outputs": [
    {
     "name": "stdout",
     "output_type": "stream",
     "text": [
      "Optimal C value:  10.0\n",
      "Optimal RBF gamma:  0.001\n",
      "Validation accuracy:  0.9746610357857302\n"
     ]
    }
   ],
   "source": [
    "# Hyperparamater tuning to find optimal C and gamma values \n",
    "Cs = 10.0 ** np.arange(-2, 4)\n",
    "gammas = 10.0 ** np.arange(-3, 2)\n",
    "\n",
    "best = {'acc': -1, 'C': None, 'gamma': None, 'model': None}\n",
    "for C in Cs:\n",
    "    for gamma in gammas:\n",
    "        mdl = fit_svm_rbf(X_train, y_train, C, gamma)\n",
    "        yhat_val = predict(mdl, X_validation)\n",
    "        acc = (yhat_val == y_validation).mean()\n",
    "        if acc > best['acc']:\n",
    "            best = {'acc': acc, 'C': C, 'gamma': gamma, 'model': mdl}\n",
    "\n",
    "print(\"Optimal C value: \", best['C'])\n",
    "print(\"Optimal RBF gamma: \", best['gamma'])\n",
    "print(\"Validation accuracy: \", best['acc'])"
   ]
  },
  {
   "cell_type": "markdown",
   "id": "9cfc1b84-0b8c-42be-bca1-7ba92d5be881",
   "metadata": {},
   "source": [
    "Optimal C value:  10.0\n",
    "Optimal RBF gamma:  0.001\n",
    "Validation accuracy:  0.9746610357857302"
   ]
  },
  {
   "cell_type": "code",
   "execution_count": 35,
   "id": "7aebadb6-90c9-4665-b116-85b169ceded8",
   "metadata": {},
   "outputs": [
    {
     "name": "stdout",
     "output_type": "stream",
     "text": [
      "Final SVM testing accuracy:  0.9773182121414277\n"
     ]
    }
   ],
   "source": [
    "# Retraining the SVM model fitted with the tuned C and gamma values and evaluating once against test\n",
    "X_tv = np.vstack([X_train, X_validation])\n",
    "y_tv = np.hstack([y_train, y_validation])\n",
    "\n",
    "final_model = fit_svm_rbf(X_tv, y_tv, best['C'], best['gamma'])\n",
    "test_pred = predict(final_model, X_test)\n",
    "test_acc = (test_pred == y_test).mean()\n",
    "print(\"Final SVM testing accuracy: \", test_acc)"
   ]
  },
  {
   "cell_type": "markdown",
   "id": "c4f613cd-0c69-4e1d-8ea4-9261b2387e35",
   "metadata": {},
   "source": [
    "Final SVM testing accuracy:  0.9773182121414277"
   ]
  }
 ],
 "metadata": {
  "kernelspec": {
   "display_name": "Python [conda env:base] *",
   "language": "python",
   "name": "conda-base-py"
  },
  "language_info": {
   "codemirror_mode": {
    "name": "ipython",
    "version": 3
   },
   "file_extension": ".py",
   "mimetype": "text/x-python",
   "name": "python",
   "nbconvert_exporter": "python",
   "pygments_lexer": "ipython3",
   "version": "3.13.5"
  }
 },
 "nbformat": 4,
 "nbformat_minor": 5
}
