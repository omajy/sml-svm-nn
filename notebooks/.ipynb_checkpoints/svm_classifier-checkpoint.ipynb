{
 "cells": [
  {
   "cell_type": "code",
   "execution_count": 118,
   "id": "aadc7e6d-6ffa-467f-9858-b04f8656ac83",
   "metadata": {},
   "outputs": [],
   "source": [
    "import numpy as np\n",
    "import pandas as pd\n",
    "from sklearn.preprocessing import StandardScaler\n",
    "from cvxopt import matrix \n",
    "from cvxopt import solvers"
   ]
  },
  {
   "cell_type": "code",
   "execution_count": 119,
   "id": "420abe55-9faf-4f0f-847c-ce6db012dc02",
   "metadata": {},
   "outputs": [],
   "source": [
    "df_train = pd.read_csv(\"train.csv\")\n",
    "test_set  = pd.read_csv(\"test.csv\")"
   ]
  },
  {
   "cell_type": "code",
   "execution_count": 120,
   "id": "df78063c-42fd-4487-83db-cd0ddfed0f19",
   "metadata": {},
   "outputs": [],
   "source": [
    "training_set = df_train.iloc[:4000]\n",
    "validation_set = df_train.iloc[4000:]"
   ]
  },
  {
   "cell_type": "code",
   "execution_count": 121,
   "id": "4efc1632-bfde-44ca-b08d-7ef7e132c1a3",
   "metadata": {},
   "outputs": [],
   "source": [
    "def split(data):\n",
    "    y = data.iloc[:, 0].replace(0, -1).to_numpy().astype(float)\n",
    "    X = data.iloc[:, 1:].to_numpy().astype(float)\n",
    "    return y, X"
   ]
  },
  {
   "cell_type": "code",
   "execution_count": 122,
   "id": "2831dc08-507f-4006-9a96-f0e82b963c66",
   "metadata": {},
   "outputs": [],
   "source": [
    "y_train, X_train = split(training_set)\n",
    "y_validation, X_validation = split(validation_set)\n",
    "y_test, X_test = split(test_set)\n",
    "\n",
    "scaler = StandardScaler()   \n",
    "\n",
    "X_train_scaled = scaler.fit_transform(X_train)   \n",
    "X_val_scaled   = scaler.transform(X_validation)\n",
    "X_test_scaled  = scaler.transform(X_test)"
   ]
  },
  {
   "cell_type": "code",
   "execution_count": 123,
   "id": "24111345-9351-4176-a6ce-994f4c09e26b",
   "metadata": {},
   "outputs": [],
   "source": [
    "def linear_kernel(X, Z):\n",
    "    return X @ Z.T"
   ]
  },
  {
   "cell_type": "code",
   "execution_count": null,
   "id": "69380fc3-4d20-415e-a297-06c870e07b1c",
   "metadata": {},
   "outputs": [],
   "source": [
    "def polynomial_kernel(X, Z, C, D):\n",
    "    return (X @ Z.T + C)**D "
   ]
  },
  {
   "cell_type": "code",
   "execution_count": 124,
   "id": "3e7e04ce-bb2e-49c6-a692-e36696804279",
   "metadata": {},
   "outputs": [],
   "source": [
    "m = X_train_scaled.shape[0] \n",
    "y = y_train.reshape(-1, 1).astype(float)\n",
    "\n",
    "K = linear_kernel(X_train_scaled, X_train_scaled)\n",
    "P = matrix(np.outer(y, y) * K)\n",
    "\n",
    "q = matrix(-np.ones((m, 1)))\n",
    "C = 1.0 \n",
    "G = matrix(np.vstack([-np.eye(m), np.eye(m)]))\n",
    "h = matrix(np.hstack([np.zeros(m), C * np.ones(m)]))\n",
    "\n",
    "A = matrix(y.reshape(1, -1))\n",
    "b = matrix(0.0)"
   ]
  }
 ],
 "metadata": {
  "kernelspec": {
   "display_name": "Python [conda env:base] *",
   "language": "python",
   "name": "conda-base-py"
  },
  "language_info": {
   "codemirror_mode": {
    "name": "ipython",
    "version": 3
   },
   "file_extension": ".py",
   "mimetype": "text/x-python",
   "name": "python",
   "nbconvert_exporter": "python",
   "pygments_lexer": "ipython3",
   "version": "3.13.5"
  }
 },
 "nbformat": 4,
 "nbformat_minor": 5
}
