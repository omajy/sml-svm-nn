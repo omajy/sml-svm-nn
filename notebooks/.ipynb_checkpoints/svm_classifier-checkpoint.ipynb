{
 "cells": [
  {
   "cell_type": "code",
   "execution_count": 118,
   "id": "aadc7e6d-6ffa-467f-9858-b04f8656ac83",
   "metadata": {},
   "outputs": [],
   "source": [
    "import numpy as np\n",
    "import pandas as pd\n",
    "from sklearn.preprocessing import StandardScaler\n",
    "from cvxopt import matrix \n",
    "from cvxopt import solvers"
   ]
  },
  {
   "cell_type": "code",
   "execution_count": 119,
   "id": "420abe55-9faf-4f0f-847c-ce6db012dc02",
   "metadata": {},
   "outputs": [],
   "source": [
    "df_train = pd.read_csv(\"train.csv\")\n",
    "test_set  = pd.read_csv(\"test.csv\")"
   ]
  },
  {
   "cell_type": "code",
   "execution_count": 120,
   "id": "df78063c-42fd-4487-83db-cd0ddfed0f19",
   "metadata": {},
   "outputs": [],
   "source": [
    "training_set = df_train.iloc[:4000]\n",
    "validation_set = df_train.iloc[4000:]"
   ]
  },
  {
   "cell_type": "code",
   "execution_count": 121,
   "id": "4efc1632-bfde-44ca-b08d-7ef7e132c1a3",
   "metadata": {},
   "outputs": [],
   "source": [
    "def split(data):\n",
    "    y = data.iloc[:, 0].replace(0, -1).to_numpy().astype(float)\n",
    "    X = data.iloc[:, 1:].to_numpy().astype(float)\n",
    "    return y, X"
   ]
  },
  {
   "cell_type": "code",
   "execution_count": 122,
   "id": "2831dc08-507f-4006-9a96-f0e82b963c66",
   "metadata": {},
   "outputs": [],
   "source": [
    "y_train, X_train = split(training_set)\n",
    "y_validation, X_validation = split(validation_set)\n",
    "y_test, X_test = split(test_set)\n",
    "\n",
    "scaler = StandardScaler()   \n",
    "\n",
    "X_train_scaled = scaler.fit_transform(X_train)   \n",
    "X_val_scaled   = scaler.transform(X_validation)\n",
    "X_test_scaled  = scaler.transform(X_test)"
   ]
  },
  {
   "cell_type": "code",
   "execution_count": 123,
   "id": "24111345-9351-4176-a6ce-994f4c09e26b",
   "metadata": {},
   "outputs": [],
   "source": [
    "def linear_kernel(X, Z):\n",
    "    return X @ Z.T\n",
    "\n",
    "def polynomial_kernel(X, Z, C, D):\n",
    "    return ((X @ Z.T) + C)**D "
   ]
  },
  {
   "cell_type": "code",
   "execution_count": 124,
   "id": "3e7e04ce-bb2e-49c6-a692-e36696804279",
   "metadata": {},
   "outputs": [],
   "source": [
    "m = X_train_scaled.shape[0] \n",
    "y = y_train.reshape(-1, 1).astype(float)\n",
    "\n",
    "K = linear_kernel(X_train_scaled, X_train_scaled)\n",
    "P = matrix(np.outer(y, y) * K)\n",
    "\n",
    "q = matrix(-np.ones((m, 1)))\n",
    "C = 1.0 \n",
    "G = matrix(np.vstack([-np.eye(m), np.eye(m)]))\n",
    "h = matrix(np.hstack([np.zeros(m), C * np.ones(m)]))\n",
    "\n",
    "A = matrix(y.reshape(1, -1))\n",
    "b = matrix(0.0)"
   ]
  },
  {
   "cell_type": "code",
   "execution_count": 125,
   "id": "3b8190c5-e2f6-4b90-8b60-7f70ff5f5e13",
   "metadata": {},
   "outputs": [
    {
     "name": "stdout",
     "output_type": "stream",
     "text": [
      "     pcost       dcost       gap    pres   dres\n",
      " 0: -7.4843e+02 -1.0915e+04  7e+04  4e+00  5e-13\n",
      " 1: -4.6207e+02 -7.0177e+03  1e+04  5e-01  3e-13\n",
      " 2: -2.9736e+02 -2.1717e+03  3e+03  1e-01  2e-13\n",
      " 3: -2.3142e+02 -1.0201e+03  1e+03  4e-02  2e-13\n",
      " 4: -2.0123e+02 -5.5389e+02  5e+02  1e-02  1e-13\n",
      " 5: -1.9467e+02 -3.3695e+02  2e+02  5e-03  1e-13\n",
      " 6: -1.9620e+02 -2.5783e+02  7e+01  1e-03  2e-13\n",
      " 7: -2.0014e+02 -2.3536e+02  4e+01  5e-04  1e-13\n",
      " 8: -2.0281e+02 -2.2359e+02  2e+01  2e-04  2e-13\n",
      " 9: -2.0645e+02 -2.1524e+02  9e+00  5e-05  2e-13\n",
      "10: -2.0734e+02 -2.1319e+02  6e+00  2e-05  1e-13\n",
      "11: -2.0838e+02 -2.1142e+02  3e+00  6e-06  2e-13\n",
      "12: -2.0875e+02 -2.1083e+02  2e+00  3e-06  2e-13\n",
      "13: -2.0940e+02 -2.0998e+02  6e-01  5e-07  2e-13\n",
      "14: -2.0953e+02 -2.0981e+02  3e-01  1e-14  2e-13\n",
      "15: -2.0964e+02 -2.0969e+02  5e-02  4e-15  2e-13\n",
      "16: -2.0966e+02 -2.0967e+02  3e-03  3e-14  2e-13\n",
      "17: -2.0966e+02 -2.0966e+02  8e-05  6e-14  2e-13\n",
      "Optimal solution found.\n",
      "Number of support vectors: 343\n",
      "Bias term b: 0.04331554145465199\n"
     ]
    }
   ],
   "source": [
    "sol = solvers.qp(P, q, G, h, A, b)\n",
    "alphas = np.array(sol['x']).reshape(-1)\n",
    "support = alphas > 1e-5\n",
    "print(\"Number of support vectors:\", support.sum())\n",
    "\n",
    "sv_X = X_train_scaled[support]\n",
    "sv_y = y_train[support]\n",
    "sv_a = alphas[support]\n",
    "\n",
    "margin_sv = (alphas > 1e-5) & (alphas < C - 1e-5)\n",
    "idx = np.where(margin_sv)[0]\n",
    "\n",
    "b_vals = []\n",
    "for i in idx:\n",
    "    s = np.sum(alphas * y_train * K[i, :])\n",
    "    b_vals.append(y_train[i] - s)\n",
    "b = np.mean(b_vals)\n",
    "print(\"Bias term b:\", b)"
   ]
  },
  {
   "cell_type": "code",
   "execution_count": 126,
   "id": "85597e5c-1622-4755-9d28-a9e7561e572a",
   "metadata": {},
   "outputs": [],
   "source": [
    "def predict(X_test):\n",
    "    K_test = linear_kernel(X_test, X_train_scaled)\n",
    "    scores = (alphas * y_train) @ K_test.T + b\n",
    "    return np.sign(scores)"
   ]
  }
 ],
 "metadata": {
  "kernelspec": {
   "display_name": "Python [conda env:base] *",
   "language": "python",
   "name": "conda-base-py"
  },
  "language_info": {
   "codemirror_mode": {
    "name": "ipython",
    "version": 3
   },
   "file_extension": ".py",
   "mimetype": "text/x-python",
   "name": "python",
   "nbconvert_exporter": "python",
   "pygments_lexer": "ipython3",
   "version": "3.13.5"
  }
 },
 "nbformat": 4,
 "nbformat_minor": 5
}
